{
 "cells": [
  {
   "cell_type": "code",
   "execution_count": 1,
   "metadata": {},
   "outputs": [],
   "source": [
    "# Importing the necessary libraries\n",
    "import warnings\n",
    "warnings.simplefilter('ignore')\n",
    "import pandas as pd\n",
    "from sklearn.model_selection import train_test_split\n",
    "from sklearn.linear_model import LogisticRegression\n",
    "from sklearn.ensemble import RandomForestClassifier\n",
    "from sklearn.metrics import confusion_matrix, accuracy_score, classification_report\n",
    "from sklearn.experimental import enable_iterative_imputer\n",
    "from sklearn.impute import IterativeImputer\n",
    "\n",
    "from numpy import isnan\n",
    "import numpy as np"
   ]
  },
  {
   "cell_type": "code",
   "execution_count": 2,
   "metadata": {},
   "outputs": [],
   "source": [
    "# Reading the dataset\n",
    "olympic_data = pd.read_csv(\"recent_olympic_data.csv\", na_values='NA')"
   ]
  },
  {
   "cell_type": "code",
   "execution_count": 3,
   "metadata": {},
   "outputs": [
    {
     "data": {
      "text/html": [
       "<div>\n",
       "<style scoped>\n",
       "    .dataframe tbody tr th:only-of-type {\n",
       "        vertical-align: middle;\n",
       "    }\n",
       "\n",
       "    .dataframe tbody tr th {\n",
       "        vertical-align: top;\n",
       "    }\n",
       "\n",
       "    .dataframe thead th {\n",
       "        text-align: right;\n",
       "    }\n",
       "</style>\n",
       "<table border=\"1\" class=\"dataframe\">\n",
       "  <thead>\n",
       "    <tr style=\"text-align: right;\">\n",
       "      <th></th>\n",
       "      <th>id</th>\n",
       "      <th>sex</th>\n",
       "      <th>age</th>\n",
       "      <th>height</th>\n",
       "      <th>weight</th>\n",
       "      <th>noc</th>\n",
       "      <th>year</th>\n",
       "      <th>season</th>\n",
       "      <th>city</th>\n",
       "      <th>sport</th>\n",
       "      <th>event</th>\n",
       "      <th>medal</th>\n",
       "      <th>region</th>\n",
       "    </tr>\n",
       "  </thead>\n",
       "  <tbody>\n",
       "    <tr>\n",
       "      <th>0</th>\n",
       "      <td>1</td>\n",
       "      <td>M</td>\n",
       "      <td>24.0</td>\n",
       "      <td>180.0</td>\n",
       "      <td>80.0</td>\n",
       "      <td>CHN</td>\n",
       "      <td>1992</td>\n",
       "      <td>Summer</td>\n",
       "      <td>Barcelona</td>\n",
       "      <td>Basketball</td>\n",
       "      <td>Basketball Men's Basketball</td>\n",
       "      <td>NaN</td>\n",
       "      <td>China</td>\n",
       "    </tr>\n",
       "    <tr>\n",
       "      <th>1</th>\n",
       "      <td>2</td>\n",
       "      <td>M</td>\n",
       "      <td>23.0</td>\n",
       "      <td>170.0</td>\n",
       "      <td>60.0</td>\n",
       "      <td>CHN</td>\n",
       "      <td>2012</td>\n",
       "      <td>Summer</td>\n",
       "      <td>London</td>\n",
       "      <td>Judo</td>\n",
       "      <td>Judo Men's Extra-Lightweight</td>\n",
       "      <td>NaN</td>\n",
       "      <td>China</td>\n",
       "    </tr>\n",
       "    <tr>\n",
       "      <th>2</th>\n",
       "      <td>5</td>\n",
       "      <td>F</td>\n",
       "      <td>21.0</td>\n",
       "      <td>185.0</td>\n",
       "      <td>82.0</td>\n",
       "      <td>NED</td>\n",
       "      <td>1988</td>\n",
       "      <td>Winter</td>\n",
       "      <td>Calgary</td>\n",
       "      <td>Speed Skating</td>\n",
       "      <td>Speed Skating Women's 500 metres</td>\n",
       "      <td>NaN</td>\n",
       "      <td>Netherlands</td>\n",
       "    </tr>\n",
       "    <tr>\n",
       "      <th>3</th>\n",
       "      <td>5</td>\n",
       "      <td>F</td>\n",
       "      <td>21.0</td>\n",
       "      <td>185.0</td>\n",
       "      <td>82.0</td>\n",
       "      <td>NED</td>\n",
       "      <td>1988</td>\n",
       "      <td>Winter</td>\n",
       "      <td>Calgary</td>\n",
       "      <td>Speed Skating</td>\n",
       "      <td>Speed Skating Women's 1,000 metres</td>\n",
       "      <td>NaN</td>\n",
       "      <td>Netherlands</td>\n",
       "    </tr>\n",
       "    <tr>\n",
       "      <th>4</th>\n",
       "      <td>5</td>\n",
       "      <td>F</td>\n",
       "      <td>25.0</td>\n",
       "      <td>185.0</td>\n",
       "      <td>82.0</td>\n",
       "      <td>NED</td>\n",
       "      <td>1992</td>\n",
       "      <td>Winter</td>\n",
       "      <td>Albertville</td>\n",
       "      <td>Speed Skating</td>\n",
       "      <td>Speed Skating Women's 500 metres</td>\n",
       "      <td>NaN</td>\n",
       "      <td>Netherlands</td>\n",
       "    </tr>\n",
       "  </tbody>\n",
       "</table>\n",
       "</div>"
      ],
      "text/plain": [
       "   id sex   age  height  weight  noc  year  season         city  \\\n",
       "0   1   M  24.0   180.0    80.0  CHN  1992  Summer    Barcelona   \n",
       "1   2   M  23.0   170.0    60.0  CHN  2012  Summer       London   \n",
       "2   5   F  21.0   185.0    82.0  NED  1988  Winter      Calgary   \n",
       "3   5   F  21.0   185.0    82.0  NED  1988  Winter      Calgary   \n",
       "4   5   F  25.0   185.0    82.0  NED  1992  Winter  Albertville   \n",
       "\n",
       "           sport                               event medal       region  \n",
       "0     Basketball         Basketball Men's Basketball   NaN        China  \n",
       "1           Judo        Judo Men's Extra-Lightweight   NaN        China  \n",
       "2  Speed Skating    Speed Skating Women's 500 metres   NaN  Netherlands  \n",
       "3  Speed Skating  Speed Skating Women's 1,000 metres   NaN  Netherlands  \n",
       "4  Speed Skating    Speed Skating Women's 500 metres   NaN  Netherlands  "
      ]
     },
     "execution_count": 3,
     "metadata": {},
     "output_type": "execute_result"
    }
   ],
   "source": [
    "# printing the first few records\n",
    "olympic_data.head()"
   ]
  },
  {
   "cell_type": "code",
   "execution_count": 4,
   "metadata": {},
   "outputs": [
    {
     "data": {
      "text/plain": [
       "['id',\n",
       " 'sex',\n",
       " 'age',\n",
       " 'height',\n",
       " 'weight',\n",
       " 'noc',\n",
       " 'year',\n",
       " 'season',\n",
       " 'city',\n",
       " 'sport',\n",
       " 'event',\n",
       " 'medal',\n",
       " 'region']"
      ]
     },
     "execution_count": 4,
     "metadata": {},
     "output_type": "execute_result"
    }
   ],
   "source": [
    "# Columns available in the dataset\n",
    "olympic_data_columns = olympic_data.columns.tolist()\n",
    "olympic_data_columns\n"
   ]
  },
  {
   "cell_type": "code",
   "execution_count": 5,
   "metadata": {},
   "outputs": [
    {
     "data": {
      "text/plain": [
       "id          int64\n",
       "sex        object\n",
       "age       float64\n",
       "height    float64\n",
       "weight    float64\n",
       "noc        object\n",
       "year        int64\n",
       "season     object\n",
       "city       object\n",
       "sport      object\n",
       "event      object\n",
       "medal      object\n",
       "region     object\n",
       "dtype: object"
      ]
     },
     "execution_count": 5,
     "metadata": {},
     "output_type": "execute_result"
    }
   ],
   "source": [
    "# Data type of columns\n",
    "olympic_data.dtypes"
   ]
  },
  {
   "cell_type": "code",
   "execution_count": 6,
   "metadata": {},
   "outputs": [],
   "source": [
    "# Getting data Stats\n",
    "data_stats = olympic_data.describe()"
   ]
  },
  {
   "cell_type": "code",
   "execution_count": 7,
   "metadata": {},
   "outputs": [
    {
     "data": {
      "text/html": [
       "<div>\n",
       "<style scoped>\n",
       "    .dataframe tbody tr th:only-of-type {\n",
       "        vertical-align: middle;\n",
       "    }\n",
       "\n",
       "    .dataframe tbody tr th {\n",
       "        vertical-align: top;\n",
       "    }\n",
       "\n",
       "    .dataframe thead th {\n",
       "        text-align: right;\n",
       "    }\n",
       "</style>\n",
       "<table border=\"1\" class=\"dataframe\">\n",
       "  <thead>\n",
       "    <tr style=\"text-align: right;\">\n",
       "      <th></th>\n",
       "      <th>id</th>\n",
       "      <th>sex</th>\n",
       "      <th>age</th>\n",
       "      <th>height</th>\n",
       "      <th>weight</th>\n",
       "      <th>noc</th>\n",
       "      <th>year</th>\n",
       "      <th>season</th>\n",
       "      <th>city</th>\n",
       "      <th>sport</th>\n",
       "      <th>event</th>\n",
       "      <th>medal</th>\n",
       "      <th>region</th>\n",
       "    </tr>\n",
       "  </thead>\n",
       "  <tbody>\n",
       "    <tr>\n",
       "      <th>0</th>\n",
       "      <td>1</td>\n",
       "      <td>M</td>\n",
       "      <td>24.0</td>\n",
       "      <td>180.0</td>\n",
       "      <td>80.0</td>\n",
       "      <td>CHN</td>\n",
       "      <td>1992</td>\n",
       "      <td>Summer</td>\n",
       "      <td>Barcelona</td>\n",
       "      <td>Basketball</td>\n",
       "      <td>Basketball Men's Basketball</td>\n",
       "      <td>No Medal</td>\n",
       "      <td>China</td>\n",
       "    </tr>\n",
       "    <tr>\n",
       "      <th>1</th>\n",
       "      <td>2</td>\n",
       "      <td>M</td>\n",
       "      <td>23.0</td>\n",
       "      <td>170.0</td>\n",
       "      <td>60.0</td>\n",
       "      <td>CHN</td>\n",
       "      <td>2012</td>\n",
       "      <td>Summer</td>\n",
       "      <td>London</td>\n",
       "      <td>Judo</td>\n",
       "      <td>Judo Men's Extra-Lightweight</td>\n",
       "      <td>No Medal</td>\n",
       "      <td>China</td>\n",
       "    </tr>\n",
       "    <tr>\n",
       "      <th>2</th>\n",
       "      <td>5</td>\n",
       "      <td>F</td>\n",
       "      <td>21.0</td>\n",
       "      <td>185.0</td>\n",
       "      <td>82.0</td>\n",
       "      <td>NED</td>\n",
       "      <td>1988</td>\n",
       "      <td>Winter</td>\n",
       "      <td>Calgary</td>\n",
       "      <td>Speed Skating</td>\n",
       "      <td>Speed Skating Women's 500 metres</td>\n",
       "      <td>No Medal</td>\n",
       "      <td>Netherlands</td>\n",
       "    </tr>\n",
       "    <tr>\n",
       "      <th>3</th>\n",
       "      <td>5</td>\n",
       "      <td>F</td>\n",
       "      <td>21.0</td>\n",
       "      <td>185.0</td>\n",
       "      <td>82.0</td>\n",
       "      <td>NED</td>\n",
       "      <td>1988</td>\n",
       "      <td>Winter</td>\n",
       "      <td>Calgary</td>\n",
       "      <td>Speed Skating</td>\n",
       "      <td>Speed Skating Women's 1,000 metres</td>\n",
       "      <td>No Medal</td>\n",
       "      <td>Netherlands</td>\n",
       "    </tr>\n",
       "    <tr>\n",
       "      <th>4</th>\n",
       "      <td>5</td>\n",
       "      <td>F</td>\n",
       "      <td>25.0</td>\n",
       "      <td>185.0</td>\n",
       "      <td>82.0</td>\n",
       "      <td>NED</td>\n",
       "      <td>1992</td>\n",
       "      <td>Winter</td>\n",
       "      <td>Albertville</td>\n",
       "      <td>Speed Skating</td>\n",
       "      <td>Speed Skating Women's 500 metres</td>\n",
       "      <td>No Medal</td>\n",
       "      <td>Netherlands</td>\n",
       "    </tr>\n",
       "  </tbody>\n",
       "</table>\n",
       "</div>"
      ],
      "text/plain": [
       "   id sex   age  height  weight  noc  year  season         city  \\\n",
       "0   1   M  24.0   180.0    80.0  CHN  1992  Summer    Barcelona   \n",
       "1   2   M  23.0   170.0    60.0  CHN  2012  Summer       London   \n",
       "2   5   F  21.0   185.0    82.0  NED  1988  Winter      Calgary   \n",
       "3   5   F  21.0   185.0    82.0  NED  1988  Winter      Calgary   \n",
       "4   5   F  25.0   185.0    82.0  NED  1992  Winter  Albertville   \n",
       "\n",
       "           sport                               event     medal       region  \n",
       "0     Basketball         Basketball Men's Basketball  No Medal        China  \n",
       "1           Judo        Judo Men's Extra-Lightweight  No Medal        China  \n",
       "2  Speed Skating    Speed Skating Women's 500 metres  No Medal  Netherlands  \n",
       "3  Speed Skating  Speed Skating Women's 1,000 metres  No Medal  Netherlands  \n",
       "4  Speed Skating    Speed Skating Women's 500 metres  No Medal  Netherlands  "
      ]
     },
     "execution_count": 7,
     "metadata": {},
     "output_type": "execute_result"
    }
   ],
   "source": [
    "# Filling the NA Values in Medal to 'No Medal'\n",
    "olympic_data['medal'] = olympic_data['medal'].fillna(value='No Medal')\n",
    "olympic_data.head()"
   ]
  },
  {
   "cell_type": "code",
   "execution_count": 8,
   "metadata": {},
   "outputs": [],
   "source": [
    "# list of columns to be imputed\n",
    "cols_to_impute = ['year', 'age', 'height', 'weight']\n",
    "# create IterativeImputer object and set min and max value parameters\n",
    "iter_imp = IterativeImputer(min_value=olympic_data[cols_to_impute].min(), max_value=olympic_data[cols_to_impute].max())\n",
    "# apply the imputer to fit and transform\n",
    "imputed_cols = iter_imp.fit_transform(olympic_data[cols_to_impute])\n",
    "# Assign the imputed array back to the original dataframe\n",
    "olympic_data[cols_to_impute] = imputed_cols"
   ]
  },
  {
   "cell_type": "code",
   "execution_count": 9,
   "metadata": {},
   "outputs": [
    {
     "name": "stdout",
     "output_type": "stream",
     "text": [
      "Missing: 0\n"
     ]
    }
   ],
   "source": [
    "# split into input and output elements\n",
    "data = olympic_data.values\n",
    "ix = [i for i in range(data.shape[1]) if i != 12]\n",
    "X, y = data[:, ix], data[:, 12]\n",
    "# print total missing\n",
    "print('Missing: %d' % sum(pd.isnull(X).flatten()))"
   ]
  },
  {
   "cell_type": "code",
   "execution_count": 10,
   "metadata": {},
   "outputs": [],
   "source": [
    "# Choosing the top five countries with the most data\n",
    "countries = ['USA','BRA','GER','AUS','FRA']\n",
    "sports = ['Athletics']"
   ]
  },
  {
   "cell_type": "code",
   "execution_count": 11,
   "metadata": {},
   "outputs": [],
   "source": [
    "# Filtering on the most important features\n",
    "olympic_data = olympic_data[olympic_data['noc'].isin(countries)]\n",
    "olympic_data = olympic_data[olympic_data['season'] == 'Summer']\n",
    "olympic_data = olympic_data[olympic_data['height'].notna()]\n",
    "olympic_data = olympic_data[olympic_data['age'].notna()]\n",
    "olympic_data['height (m)'] = olympic_data['height']/100\n",
    "olympic_data = olympic_data[olympic_data['weight'].notna()] \n",
    "olympic_data['BMI'] = round(olympic_data['weight']/(olympic_data['height (m)']*olympic_data['height (m)']), 2)\n",
    "# olympic_data = olympic_data[olympics['Medal'] == 'Gold']\n",
    "# wins = ['Gold','Bronze']\n",
    "# olympic_data = olympic_data[olympic_data['Medal'].isin(wins)]"
   ]
  },
  {
   "cell_type": "code",
   "execution_count": 12,
   "metadata": {},
   "outputs": [],
   "source": [
    "# Assign \"Medal\" to the Medal column if the athlete got Bronze, Silver, or Gold. Otherwise, assign \"Non-Medal\"\n",
    "olympic_data.loc[(olympic_data['medal'] == 'Gold'),'medal'] = 'medal'\n",
    "olympic_data.loc[(olympic_data['medal'] == 'Silver'),'medal'] = 'medal'\n",
    "olympic_data.loc[(olympic_data['medal'] == 'Bronze'),'medal'] = 'medal'\n",
    "olympic_data.loc[(olympic_data['medal'].isna()),'medal'] = 'No-Medal'"
   ]
  },
  {
   "cell_type": "code",
   "execution_count": 13,
   "metadata": {},
   "outputs": [],
   "source": [
    "# Split the data on year = 2016\n",
    "olympics_df = olympic_data[olympic_data['year'] < 2016]\n",
    "olympics_2016 = olympic_data[olympic_data['year'] == 2016]"
   ]
  },
  {
   "cell_type": "code",
   "execution_count": 14,
   "metadata": {},
   "outputs": [
    {
     "name": "stdout",
     "output_type": "stream",
     "text": [
      "(24997, 11) (24997,)\n"
     ]
    }
   ],
   "source": [
    "# Using features with the highest importance\n",
    "X = pd.get_dummies(olympics_df[[\"sex\", \"age\", \"height\", \"weight\", \"BMI\", \"noc\"]])\n",
    "# X = olympics[[\"BMI\",\"noc\"]]\n",
    "y = olympics_df[\"medal\"]\n",
    "print(X.shape, y.shape)\n"
   ]
  },
  {
   "cell_type": "code",
   "execution_count": 15,
   "metadata": {},
   "outputs": [],
   "source": [
    "#split data\n",
    "X_train, X_test, y_train, y_test = train_test_split(X, y, random_state=42)\n",
    "X_2016 = pd.get_dummies(olympics_2016[[\"sex\", \"age\", \"height\", \"weight\", \"BMI\", \"noc\"]])\n",
    "y_2016 = olympics_2016[\"medal\"]"
   ]
  },
  {
   "cell_type": "code",
   "execution_count": 16,
   "metadata": {},
   "outputs": [
    {
     "data": {
      "text/plain": [
       "LogisticRegression()"
      ]
     },
     "execution_count": 16,
     "metadata": {},
     "output_type": "execute_result"
    }
   ],
   "source": [
    "# Logistic Regression\n",
    "classifier = LogisticRegression()\n",
    "classifier.fit(X_train, y_train)"
   ]
  },
  {
   "cell_type": "code",
   "execution_count": 17,
   "metadata": {},
   "outputs": [
    {
     "name": "stdout",
     "output_type": "stream",
     "text": [
      "Training Data Score: 0.7712700698778471\n",
      "Testing Data Score: 0.78208\n"
     ]
    }
   ],
   "source": [
    "# the closer the one the stronger the coorelation/prediction model\n",
    "print(f\"Training Data Score: {classifier.score(X_train, y_train)}\")\n",
    "print(f\"Testing Data Score: {classifier.score(X_test, y_test)}\")"
   ]
  },
  {
   "cell_type": "code",
   "execution_count": 18,
   "metadata": {},
   "outputs": [
    {
     "name": "stdout",
     "output_type": "stream",
     "text": [
      "First 10 Predictions: ['No Medal' 'No Medal' 'No Medal' 'No Medal' 'No Medal' 'No Medal'\n",
      " 'No Medal' 'No Medal' 'No Medal' 'No Medal']\n",
      "First 10 Actual labels: ['medal', 'No Medal', 'No Medal', 'No Medal', 'No Medal', 'No Medal', 'medal', 'No Medal', 'No Medal', 'No Medal']\n"
     ]
    }
   ],
   "source": [
    "#Machine learning model predictions tested on 2016 data\n",
    "# using only the 2016 Olympics dataset to see how close our predictions are\n",
    "predictions = classifier.predict(X_2016)\n",
    "print(f\"First 10 Predictions: {predictions[:10]}\")\n",
    "print(f\"First 10 Actual labels: {y_2016[:10].tolist()}\")"
   ]
  },
  {
   "cell_type": "code",
   "execution_count": 19,
   "metadata": {},
   "outputs": [],
   "source": [
    "# putting actuals and predictions into a dataframe\n",
    "Testing = pd.DataFrame({\"Prediction\": predictions, \"Actual\": y_2016}).reset_index(drop=True)"
   ]
  },
  {
   "cell_type": "code",
   "execution_count": 20,
   "metadata": {},
   "outputs": [
    {
     "data": {
      "text/html": [
       "<div>\n",
       "<style scoped>\n",
       "    .dataframe tbody tr th:only-of-type {\n",
       "        vertical-align: middle;\n",
       "    }\n",
       "\n",
       "    .dataframe tbody tr th {\n",
       "        vertical-align: top;\n",
       "    }\n",
       "\n",
       "    .dataframe thead th {\n",
       "        text-align: right;\n",
       "    }\n",
       "</style>\n",
       "<table border=\"1\" class=\"dataframe\">\n",
       "  <thead>\n",
       "    <tr style=\"text-align: right;\">\n",
       "      <th></th>\n",
       "      <th>Prediction</th>\n",
       "      <th>Actual</th>\n",
       "    </tr>\n",
       "  </thead>\n",
       "  <tbody>\n",
       "    <tr>\n",
       "      <th>13</th>\n",
       "      <td>medal</td>\n",
       "      <td>medal</td>\n",
       "    </tr>\n",
       "    <tr>\n",
       "      <th>16</th>\n",
       "      <td>medal</td>\n",
       "      <td>medal</td>\n",
       "    </tr>\n",
       "    <tr>\n",
       "      <th>17</th>\n",
       "      <td>medal</td>\n",
       "      <td>medal</td>\n",
       "    </tr>\n",
       "    <tr>\n",
       "      <th>18</th>\n",
       "      <td>medal</td>\n",
       "      <td>medal</td>\n",
       "    </tr>\n",
       "    <tr>\n",
       "      <th>19</th>\n",
       "      <td>medal</td>\n",
       "      <td>medal</td>\n",
       "    </tr>\n",
       "    <tr>\n",
       "      <th>...</th>\n",
       "      <td>...</td>\n",
       "      <td>...</td>\n",
       "    </tr>\n",
       "    <tr>\n",
       "      <th>2522</th>\n",
       "      <td>medal</td>\n",
       "      <td>medal</td>\n",
       "    </tr>\n",
       "    <tr>\n",
       "      <th>2604</th>\n",
       "      <td>medal</td>\n",
       "      <td>medal</td>\n",
       "    </tr>\n",
       "    <tr>\n",
       "      <th>2648</th>\n",
       "      <td>medal</td>\n",
       "      <td>medal</td>\n",
       "    </tr>\n",
       "    <tr>\n",
       "      <th>2686</th>\n",
       "      <td>medal</td>\n",
       "      <td>No Medal</td>\n",
       "    </tr>\n",
       "    <tr>\n",
       "      <th>2753</th>\n",
       "      <td>medal</td>\n",
       "      <td>No Medal</td>\n",
       "    </tr>\n",
       "  </tbody>\n",
       "</table>\n",
       "<p>69 rows × 2 columns</p>\n",
       "</div>"
      ],
      "text/plain": [
       "     Prediction    Actual\n",
       "13        medal     medal\n",
       "16        medal     medal\n",
       "17        medal     medal\n",
       "18        medal     medal\n",
       "19        medal     medal\n",
       "...         ...       ...\n",
       "2522      medal     medal\n",
       "2604      medal     medal\n",
       "2648      medal     medal\n",
       "2686      medal  No Medal\n",
       "2753      medal  No Medal\n",
       "\n",
       "[69 rows x 2 columns]"
      ]
     },
     "execution_count": 20,
     "metadata": {},
     "output_type": "execute_result"
    }
   ],
   "source": [
    "\n",
    "#Reviewing prediction data\n",
    "Testing_crosstab = pd.crosstab(Testing['Actual'],Testing['Prediction'])\n",
    "Testing[(Testing['Prediction'] == 'medal')]"
   ]
  },
  {
   "cell_type": "code",
   "execution_count": 21,
   "metadata": {},
   "outputs": [
    {
     "data": {
      "text/plain": [
       "RandomForestClassifier(random_state=42)"
      ]
     },
     "execution_count": 21,
     "metadata": {},
     "output_type": "execute_result"
    }
   ],
   "source": [
    "## Random Forest Classifier\n",
    "rf_model = RandomForestClassifier(n_estimators=100, random_state=42)\n",
    "rf_model.fit(X_train, y_train)"
   ]
  },
  {
   "cell_type": "code",
   "execution_count": 22,
   "metadata": {},
   "outputs": [],
   "source": [
    "# Calculating the accuracy score.\n",
    "rf_predictions = rf_model.predict(X_test)\n",
    "acc_score = accuracy_score(y_test, rf_predictions)"
   ]
  },
  {
   "cell_type": "code",
   "execution_count": 23,
   "metadata": {},
   "outputs": [],
   "source": [
    "# Calculating the confusion matrix.\n",
    "cm = confusion_matrix(y_test, rf_predictions)"
   ]
  },
  {
   "cell_type": "code",
   "execution_count": 24,
   "metadata": {},
   "outputs": [
    {
     "name": "stdout",
     "output_type": "stream",
     "text": [
      "Confusion Matrix\n",
      "          Predicted 0  Predicted 1\n",
      "Actual 0         4331          538\n",
      "Actual 1          947          434\n",
      "Accuracy Score : 0.7624\n",
      "Classification Report\n",
      "              precision    recall  f1-score   support\n",
      "\n",
      "    No Medal       0.82      0.89      0.85      4869\n",
      "       medal       0.45      0.31      0.37      1381\n",
      "\n",
      "    accuracy                           0.76      6250\n",
      "   macro avg       0.63      0.60      0.61      6250\n",
      "weighted avg       0.74      0.76      0.75      6250\n",
      "\n"
     ]
    }
   ],
   "source": [
    "# Create a DataFrame from the confusion matrix.\n",
    "cm_df = pd.DataFrame(\n",
    "    cm, index=[\"Actual 0\", \"Actual 1\"], columns=[\"Predicted 0\", \"Predicted 1\"])\n",
    "print(\"Confusion Matrix\")\n",
    "print(cm_df)\n",
    "print(f\"Accuracy Score : {acc_score}\")\n",
    "print(\"Classification Report\")\n",
    "print(classification_report(y_test, rf_predictions))"
   ]
  },
  {
   "cell_type": "code",
   "execution_count": 25,
   "metadata": {},
   "outputs": [
    {
     "data": {
      "text/plain": [
       "[(0.3029195434080895, 'age'),\n",
       " (0.2502865306936226, 'BMI'),\n",
       " (0.18375550534724355, 'weight'),\n",
       " (0.18321408137696185, 'height'),\n",
       " (0.03421204191562858, 'noc_USA'),\n",
       " (0.010699503568939965, 'noc_FRA'),\n",
       " (0.008505050587300266, 'sex_F'),\n",
       " (0.008258571343592154, 'sex_M'),\n",
       " (0.006329597589326147, 'noc_GER'),\n",
       " (0.006133539261136529, 'noc_AUS'),\n",
       " (0.005686034908158824, 'noc_BRA')]"
      ]
     },
     "execution_count": 25,
     "metadata": {},
     "output_type": "execute_result"
    }
   ],
   "source": [
    "#Sort the features by their importance.6`\n",
    "sorted(zip(rf_model.feature_importances_, X.columns), reverse=True)"
   ]
  },
  {
   "cell_type": "code",
   "execution_count": 26,
   "metadata": {},
   "outputs": [],
   "source": [
    "#Machine learning model predictions tested on 2016 data\n",
    "# using only the 2016 Olympics dataset to see how close our predictions are\n",
    "rf_predictions = rf_model.predict(X_2016)"
   ]
  },
  {
   "cell_type": "code",
   "execution_count": 27,
   "metadata": {},
   "outputs": [],
   "source": [
    "# putting actuals and predictions into a dataframe\n",
    "Testing = pd.DataFrame({\"Prediction\": rf_predictions, \"Actual\": y_2016}).reset_index(drop=True)"
   ]
  }
 ],
 "metadata": {
  "kernelspec": {
   "display_name": "Python 3",
   "language": "python",
   "name": "python3"
  },
  "language_info": {
   "codemirror_mode": {
    "name": "ipython",
    "version": 3
   },
   "file_extension": ".py",
   "mimetype": "text/x-python",
   "name": "python",
   "nbconvert_exporter": "python",
   "pygments_lexer": "ipython3",
   "version": "3.8.8"
  }
 },
 "nbformat": 4,
 "nbformat_minor": 4
}
